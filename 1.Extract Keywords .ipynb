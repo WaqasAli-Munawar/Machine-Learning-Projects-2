{
 "cells": [
  {
   "cell_type": "markdown",
   "metadata": {},
   "source": [
    "Keywords play an important role when reading a long text to understand the subject and context of the text. Search engines also analyze an article’s keywords before indexing it.\n",
    "\n",
    "Well, we can also train a machine learning model that will extract keywords, but here we are just going to walk through how to use a Python library so that even beginners can understand how extracting keywords work before training a machine learning model."
   ]
  },
  {
   "cell_type": "markdown",
   "metadata": {},
   "source": [
    "### Extract Keywords\n",
    "\n",
    "There are so many Python libraries, the best ones are \n",
    "* spaCy, \n",
    "* Rake-Nltk, \n",
    "* YAKE. \n",
    "\n",
    "In this file, we will use the Rake-NLTK as it is beginner-friendly and easy to install. we can easily install it by using the pip command; `pip install rake-nltk`.\n",
    "\n",
    "**RAKE stands for Rapid Automatic Keyword Extraction**. It is only built to extract keywords by using the NLTK library. Now let’s see how to use this library for extracting keywords."
   ]
  },
  {
   "cell_type": "code",
   "execution_count": 6,
   "metadata": {},
   "outputs": [
    {
     "name": "stdout",
     "output_type": "stream",
     "text": [
      "Collecting rake-nltk\n",
      "  Downloading rake_nltk-1.0.6-py3-none-any.whl (9.1 kB)\n",
      "Requirement already satisfied: nltk<4.0.0,>=3.6.2 in c:\\users\\waqas.ali\\appdata\\roaming\\python\\python37\\site-packages (from rake-nltk) (3.6.2)\n",
      "Requirement already satisfied: click in c:\\users\\waqas.ali\\appdata\\roaming\\python\\python37\\site-packages (from nltk<4.0.0,>=3.6.2->rake-nltk) (7.1.2)\n",
      "Requirement already satisfied: tqdm in c:\\programdata\\anaconda3\\lib\\site-packages (from nltk<4.0.0,>=3.6.2->rake-nltk) (4.42.1)\n",
      "Requirement already satisfied: regex in c:\\programdata\\anaconda3\\lib\\site-packages (from nltk<4.0.0,>=3.6.2->rake-nltk) (2021.4.4)\n",
      "Requirement already satisfied: joblib in c:\\programdata\\anaconda3\\lib\\site-packages (from nltk<4.0.0,>=3.6.2->rake-nltk) (0.14.1)\n",
      "Installing collected packages: rake-nltk\n",
      "Successfully installed rake-nltk-1.0.6\n"
     ]
    }
   ],
   "source": [
    "!pip install rake-nltk"
   ]
  },
  {
   "cell_type": "code",
   "execution_count": 7,
   "metadata": {},
   "outputs": [],
   "source": [
    "from rake_nltk import Rake\n",
    "rake_nltk_var = Rake()"
   ]
  },
  {
   "cell_type": "code",
   "execution_count": 8,
   "metadata": {},
   "outputs": [],
   "source": [
    "text = \"\"\" I am a programmer from Pakistan, and I am here to guide you \n",
    "with Data Science, Machine Learning, Python. I hope you will learn a lot in your journey towards Coding, \n",
    "Machine Learning and Artificial Intelligence.\"\"\""
   ]
  },
  {
   "cell_type": "markdown",
   "metadata": {},
   "source": [
    "Now let’s extract the keywords from the text and print the output:"
   ]
  },
  {
   "cell_type": "code",
   "execution_count": 9,
   "metadata": {},
   "outputs": [
    {
     "data": {
      "text/plain": [
       "['journey towards coding',\n",
       " 'machine learning',\n",
       " 'machine learning',\n",
       " 'data science',\n",
       " 'artificial intelligence',\n",
       " 'python',\n",
       " 'programmer',\n",
       " 'pakistan',\n",
       " 'lot',\n",
       " 'learn',\n",
       " 'hope',\n",
       " 'guide']"
      ]
     },
     "execution_count": 9,
     "metadata": {},
     "output_type": "execute_result"
    }
   ],
   "source": [
    "rake_nltk_var.extract_keywords_from_text(text)\n",
    "keyword_extracted = rake_nltk_var.get_ranked_phrases()\n",
    "keyword_extracted"
   ]
  },
  {
   "cell_type": "markdown",
   "metadata": {},
   "source": [
    "### Summary\n",
    "The process of extracting keywords helps us identifying the importance of words in a text. This task can be also used for topic modelling. It is very useful to extract keywords for indexing the articles on the web so that people searching the keywords can get the best articles to read.\n",
    "\n",
    "This technique is also used by various search engines. It is obvious that they don’t use any library but the process remains the same to extract keywords."
   ]
  },
  {
   "cell_type": "code",
   "execution_count": null,
   "metadata": {},
   "outputs": [],
   "source": []
  }
 ],
 "metadata": {
  "kernelspec": {
   "display_name": "Python 3",
   "language": "python",
   "name": "python3"
  },
  "language_info": {
   "codemirror_mode": {
    "name": "ipython",
    "version": 3
   },
   "file_extension": ".py",
   "mimetype": "text/x-python",
   "name": "python",
   "nbconvert_exporter": "python",
   "pygments_lexer": "ipython3",
   "version": "3.7.6"
  }
 },
 "nbformat": 4,
 "nbformat_minor": 4
}
