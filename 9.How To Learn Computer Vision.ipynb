{
 "cells": [
  {
   "cell_type": "markdown",
   "metadata": {},
   "source": [
    "### What is Computer Vision?\n",
    "\n",
    "Computer vision is a subfield of artificial intelligence that is used to train a computer to see, process, and identify what is inside an image or video, just like humans.\n",
    "\n",
    "* In Machine Learning, we train our system to learn from data to classify or predict labels. \n",
    "* In computer vision, we train a system to process an image to understand what’s inside an image or video, just like humans. \n",
    "\n",
    "The ability of a computer system, web application, software application, or any type of programmed system to understand an image or video like humans is known as **computer vision**."
   ]
  },
  {
   "cell_type": "markdown",
   "metadata": {},
   "source": [
    "Computer vision is not new, as it is already used in a wide variety of applications to solve business problems such as:\n",
    "\n",
    "* Optical Character Recognition\n",
    "* Machine Inspection\n",
    "* Object Recognition\n",
    "* 3D Model Building\n",
    "* Medical Imaging\n",
    "* Automotive Safety\n",
    "* Motion Capture\n",
    "* Fingerprint Recognition\n",
    "* Face Detection\n",
    "* Visual Authentication and many more."
   ]
  },
  {
   "cell_type": "markdown",
   "metadata": {},
   "source": [
    "### How To Learn Computer Vision?\n",
    "\n",
    "Below are the topics of computer vision that you need to learn step by step:\n",
    "\n",
    "1. Mathematics\n",
    "    * Probability\n",
    "    * Statistics\n",
    "    * Linear Algebra\n",
    "    * Calculus\n",
    "    \n",
    "\n",
    "2. Fundamentals of Computer Science\n",
    "    * Programming Language (Python/R)\n",
    "    * Machine Learning Algorithms\n",
    "    * Neural Networks\n",
    "    \n",
    "\n",
    "3. Data Science\n",
    "    * Data Collection\n",
    "    * Data Preparation\n",
    "    * Data Augmentation\n",
    "    * Data Annotation\n",
    "    \n",
    "\n",
    "4. Image and Video Processing\n",
    "    * Image Classification\n",
    "    * Object Detection\n",
    "    * Object Tracking\n",
    "    * Image Captioning\n",
    "    * Image Segmentation\n",
    "    * Action Recognition\n",
    "    * Video Processing\n",
    "    * Video Captioning"
   ]
  },
  {
   "cell_type": "markdown",
   "metadata": {},
   "source": [
    "So these were the topics we need to learn to understand the concepts of computer vision. Now, to implement the computer vision concepts mentioned above, we must first learn a programming language. The most popular programming languages for computer vision are **Python, C++, and JavaScript**. We use Python because it is easy to learn and the support of libraries makes it more user friendly."
   ]
  },
  {
   "cell_type": "markdown",
   "metadata": {},
   "source": [
    "# Python Libraries and Frameworks\n",
    "\n",
    "Assuming that we are also using the Python programming language to implement the concepts of computer vision, below are the Python libraries and frameworks that we need to learn for computer vision:\n",
    "\n",
    "* NumPy\n",
    "* Pandas\n",
    "* skimage\n",
    "* Pillow\n",
    "* OpenCV\n",
    "* TensorFlow\n",
    "* PyTorch\n",
    "\n",
    "This the complete roadmap that we need for learning computer vision using Python programming language. "
   ]
  },
  {
   "cell_type": "code",
   "execution_count": null,
   "metadata": {},
   "outputs": [],
   "source": []
  }
 ],
 "metadata": {
  "kernelspec": {
   "display_name": "Python 3",
   "language": "python",
   "name": "python3"
  },
  "language_info": {
   "codemirror_mode": {
    "name": "ipython",
    "version": 3
   },
   "file_extension": ".py",
   "mimetype": "text/x-python",
   "name": "python",
   "nbconvert_exporter": "python",
   "pygments_lexer": "ipython3",
   "version": "3.7.6"
  }
 },
 "nbformat": 4,
 "nbformat_minor": 4
}
