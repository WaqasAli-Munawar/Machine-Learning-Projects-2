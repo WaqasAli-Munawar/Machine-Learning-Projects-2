{
 "cells": [
  {
   "cell_type": "markdown",
   "metadata": {},
   "source": [
    "Marketing is one of the highest-paid areas where we can work as a data scientist. Marketing refers to the activities carried out by a company to promote its products and services. Data science can be used in many ways to make decisions about how to market a product. \n",
    "\n",
    "Following are some of the best data science practices in finance\n",
    "\n",
    "### Keyword Research Analysis:\n",
    "Marketing is one of those areas where a data scientist works as an analyst to analyze marketing trends that should be used by a business in a particular situation. This is what this data science project is all about. \n",
    "\n",
    "In large technology companies, a Data Scientist analyzes the most searched keywords on the products and services in which their company deals to improve the search engine optimization of their websites.\n",
    "\n",
    "As part of keyword research analysis, a Data Scientist aims to find the best possible keyword to use when promoting their products and services online. This helps improve the company’s search performance in major search engines like Google and Bing. \n",
    "\n",
    "### Google Search Analysis:\n",
    "\n",
    "In the keyword research analysis data scientist aims to find the most used keywords. Once we have found the keyword that is used the most to promote our business, we need to analyze the search trends for that keyword on Google which is very important for a business to reach more customers.\n",
    "\n",
    "Google is the most used search engine today, so every business wants to rank higher on Google for their products and services. So, as a Data Scientist, we need to analyze the search trends of a particular keyword on google so that we can provide the most suitable keyword to improve search performance in marketing a product. \n",
    "\n",
    "### Customer Personality Analysis:\n",
    "When marketing a product, it is very important to understand what type of customers are most likely to buy our products. Because if a company promotes a product to every customer in their database, it will cost them dearly. Also, if the customer has nothing to do with that product, there is no point in marketing a product among such people.\n",
    "\n",
    "This is where a Data Scientist can help bring a product to market by understanding the personalities of all of the customers most likely to buy that product. This allows a business to reduce the cost of its marketing and target the most profitable customers. "
   ]
  },
  {
   "cell_type": "code",
   "execution_count": null,
   "metadata": {},
   "outputs": [],
   "source": []
  }
 ],
 "metadata": {
  "kernelspec": {
   "display_name": "Python 3",
   "language": "python",
   "name": "python3"
  },
  "language_info": {
   "codemirror_mode": {
    "name": "ipython",
    "version": 3
   },
   "file_extension": ".py",
   "mimetype": "text/x-python",
   "name": "python",
   "nbconvert_exporter": "python",
   "pygments_lexer": "ipython3",
   "version": "3.7.6"
  }
 },
 "nbformat": 4,
 "nbformat_minor": 4
}
