{
 "cells": [
  {
   "cell_type": "markdown",
   "metadata": {},
   "source": [
    "Over the years, the use of data science has increased in finance for several financial analysis that can help increase an organization’s profits. \n",
    "\n",
    "Financial institutions need data scientist in all aspects, such as the detection of fraudulent activity, financial risk analysis, and many other tasks that can improve the customer’s user experience of a financial institution. \n",
    "\n",
    "Following are some of the best data science practices in finance\n",
    "\n",
    "### Profit Prediction Model:\n",
    "\n",
    "Management should always set a goal that can be achieved. If set goals seems unattainable, employees may not perform to their potential. This also happens with a company’s target profit. \n",
    "\n",
    "A business should always aim for a profit that can be made with the given resources. This is where a financial data scientist can come in handy for a business. \n",
    "\n",
    "### Bankruptcy Prediction Model:\n",
    "Bankruptcy is a state of insolvency when a business or legal person is unable to repay debts to creditors. If we are someone who is learning data science after coming from a financial background, this type of project should be on our resume. In this project, we need to train a machine learning model to predict whether a business will go bankrupt or not. \n",
    "\n",
    "### Cryptocurrency Price Prediction:\n",
    "\n",
    "As a Financial Data Specialist, we also have to work on a project on a hot topic in the financial field. Currently, cryptocurrencies are all the rage and people are investing heavily in them. Bitcoin was the focus of attention for various financial analysts some time ago, but now dogecoin is. So, we can work on a project to predict future dogecoin prices."
   ]
  },
  {
   "cell_type": "code",
   "execution_count": null,
   "metadata": {},
   "outputs": [],
   "source": []
  }
 ],
 "metadata": {
  "kernelspec": {
   "display_name": "Python 3",
   "language": "python",
   "name": "python3"
  },
  "language_info": {
   "codemirror_mode": {
    "name": "ipython",
    "version": 3
   },
   "file_extension": ".py",
   "mimetype": "text/x-python",
   "name": "python",
   "nbconvert_exporter": "python",
   "pygments_lexer": "ipython3",
   "version": "3.7.6"
  }
 },
 "nbformat": 4,
 "nbformat_minor": 4
}
