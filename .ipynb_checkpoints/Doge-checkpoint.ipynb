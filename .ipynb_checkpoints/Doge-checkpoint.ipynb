{
 "cells": [
  {
   "cell_type": "code",
   "execution_count": null,
   "metadata": {},
   "outputs": [],
   "source": [
    "from autots import AutoTS\n",
    "import numpy as np\n",
    "import pandas as pd\n",
    "import matplotlib.pyplot as plt\n",
    "import seaborn as sns\n",
    "from seaborn import regression\n",
    "sns.set()\n",
    "plt.style.use('seaborn-whitegrid')\n",
    "\n",
    "import streamlit as st\n",
    "st.title(\"Future Price Prediction Model\")\n",
    "df = st.text_input(\"Let's Predict the Future Prices\")\n",
    "\n",
    "if df == \"Dogecoin\":\n",
    "    data = pd.read_csv(\"DOGE.csv\")\n",
    "    print(data.head())\n",
    "    data.dropna()\n",
    "    model = AutoTS(forecast_length=10, frequency='infer', ensemble='simple', drop_data_older_than_periods=200)\n",
    "    model = model.fit(data, date_col='Date', value_col='Close', id_col=None)\n",
    "    prediction = model.predict()\n",
    "    forecast = prediction.forecast\n",
    "    st.write(forecast)"
   ]
  }
 ],
 "metadata": {
  "kernelspec": {
   "display_name": "Python 3",
   "language": "python",
   "name": "python3"
  },
  "language_info": {
   "codemirror_mode": {
    "name": "ipython",
    "version": 3
   },
   "file_extension": ".py",
   "mimetype": "text/x-python",
   "name": "python",
   "nbconvert_exporter": "python",
   "pygments_lexer": "ipython3",
   "version": "3.7.6"
  }
 },
 "nbformat": 4,
 "nbformat_minor": 4
}
